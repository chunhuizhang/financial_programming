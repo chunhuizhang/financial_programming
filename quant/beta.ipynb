{
 "cells": [
  {
   "cell_type": "markdown",
   "id": "ca85ec38",
   "metadata": {},
   "source": [
    "- references\n",
    "    - https://www.investopedia.com/terms/b/beta.asp\n",
    "    - https://blog.quantinsti.com/asset-beta-market-beta-python/"
   ]
  },
  {
   "cell_type": "markdown",
   "id": "e088896b",
   "metadata": {},
   "source": [
    "The Calculation for Beta Is As Follows:\n",
    "\n",
    "$$\n",
    "\\text{Beta coefficient}(\\beta) = \\frac{Covariance(Re, Rm)}{Variance(Rm)}\n",
    "$$\n",
    "\n",
    "where:\n",
    "- Re = the return on an individual stock\n",
    "- Rm = the return on the overall market\n",
    "- Covariance = how changes in a stock's returns are related to changes in the market's returns\n",
    "- Variance = how far the market's data points spread out from their average value\n"
   ]
  }
 ],
 "metadata": {
  "kernelspec": {
   "display_name": "Python 3 (ipykernel)",
   "language": "python",
   "name": "python3"
  },
  "language_info": {
   "codemirror_mode": {
    "name": "ipython",
    "version": 3
   },
   "file_extension": ".py",
   "mimetype": "text/x-python",
   "name": "python",
   "nbconvert_exporter": "python",
   "pygments_lexer": "ipython3",
   "version": "3.10.9"
  },
  "toc": {
   "base_numbering": 1,
   "nav_menu": {},
   "number_sections": true,
   "sideBar": true,
   "skip_h1_title": false,
   "title_cell": "Table of Contents",
   "title_sidebar": "Contents",
   "toc_cell": false,
   "toc_position": {},
   "toc_section_display": true,
   "toc_window_display": false
  }
 },
 "nbformat": 4,
 "nbformat_minor": 5
}
