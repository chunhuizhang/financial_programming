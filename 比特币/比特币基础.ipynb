{
 "cells": [
  {
   "cell_type": "code",
   "execution_count": 3,
   "id": "a7e96e4b",
   "metadata": {
    "ExecuteTime": {
     "end_time": "2024-03-20T14:42:47.602563Z",
     "start_time": "2024-03-20T14:42:47.593789Z"
    }
   },
   "outputs": [
    {
     "name": "stdout",
     "output_type": "stream",
     "text": [
      "10500000\n",
      "10512000\n"
     ]
    }
   ],
   "source": [
    "print(210000 * 50)\n",
    "print(50*6*24*365*4)"
   ]
  },
  {
   "cell_type": "markdown",
   "id": "d28ddf6e",
   "metadata": {},
   "source": [
    "## references"
   ]
  },
  {
   "cell_type": "markdown",
   "id": "a78933a7",
   "metadata": {},
   "source": [
    "$$\n",
    "\\frac{\\sum_{i=0}^{32}210000\\left\\lfloor\\frac{50\\times 10^8}{2^i}\\right\\rfloor}{10^8}\n",
    "$$"
   ]
  },
  {
   "cell_type": "markdown",
   "id": "6267f1b8",
   "metadata": {},
   "source": [
    "- 总量 21,000,000\n",
    "    - 化简上式，可得 210000 * 50 => 10500000\n",
    "        - `50*6*24*365*4 == 10512000`\n",
    "            - 每10分钟（一小时6次），发50个比特币，\n",
    "            - 此后第二个4年，25个；\n",
    "            - 第三个4年，12.5个；\n",
    "- https://en.bitcoin.it/wiki/Controlled_supply\n",
    "    - 4年完成1/2的释放\n",
    "        - 87.5 -> 87.5+12.5/2\n",
    "        - 2019-05-24 -> 2020-05-11 -> 2021-05-08 -> 2022-05-05 -> 2023-04-29\t\n",
    "- halving dates\n",
    "    - https://coincodex.com/article/22929/bitcoin-halving-dates/"
   ]
  },
  {
   "cell_type": "code",
   "execution_count": 4,
   "id": "5a9d4a51",
   "metadata": {
    "ExecuteTime": {
     "end_time": "2024-03-14T14:32:28.033697Z",
     "start_time": "2024-03-14T14:32:28.022858Z"
    }
   },
   "outputs": [
    {
     "name": "stdout",
     "output_type": "stream",
     "text": [
      "1 0.5\n",
      "2 0.75\n",
      "3 0.875\n",
      "4 0.9375\n",
      "5 0.96875\n",
      "6 0.984375\n",
      "7 0.9921875\n",
      "8 0.99609375\n"
     ]
    }
   ],
   "source": [
    "def sum_k(k):\n",
    "    return sum([1/(2**i) for i in range(1, k)])\n",
    "for i in range(2, 10):\n",
    "    print(i-1, sum_k(i))"
   ]
  },
  {
   "cell_type": "markdown",
   "id": "4986fb02",
   "metadata": {},
   "source": [
    "## 新闻变旧闻"
   ]
  },
  {
   "cell_type": "markdown",
   "id": "5931d485",
   "metadata": {},
   "source": [
    "- 新闻比特币上美股ETF\n",
    "    - 在美国的股票交易所上市了以比特币为基础资产的交易所交易基金（ETF）。"
   ]
  },
  {
   "cell_type": "code",
   "execution_count": null,
   "id": "405dcb85",
   "metadata": {},
   "outputs": [],
   "source": []
  }
 ],
 "metadata": {
  "kernelspec": {
   "display_name": "Python 3 (ipykernel)",
   "language": "python",
   "name": "python3"
  },
  "language_info": {
   "codemirror_mode": {
    "name": "ipython",
    "version": 3
   },
   "file_extension": ".py",
   "mimetype": "text/x-python",
   "name": "python",
   "nbconvert_exporter": "python",
   "pygments_lexer": "ipython3",
   "version": "3.10.13"
  },
  "toc": {
   "base_numbering": 1,
   "nav_menu": {},
   "number_sections": true,
   "sideBar": true,
   "skip_h1_title": false,
   "title_cell": "Table of Contents",
   "title_sidebar": "Contents",
   "toc_cell": false,
   "toc_position": {},
   "toc_section_display": true,
   "toc_window_display": false
  }
 },
 "nbformat": 4,
 "nbformat_minor": 5
}
