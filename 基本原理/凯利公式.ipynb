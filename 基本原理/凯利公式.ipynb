{
 "cells": [
  {
   "cell_type": "markdown",
   "id": "1f199d08",
   "metadata": {},
   "source": [
    "$$\n",
    "f=\\frac{p\\cdot(b+1)-1}{b}\n",
    "$$\n",
    "\n",
    "- 寻找最佳的投资比例\n",
    "- 如果有一项投资，成功的比例是 $p$（投资成功率）\n",
    "    - 如果成功将会获得额外的 $b$ 倍的收益（投资回报率）\n",
    "    - 如果失败将会损失全部的本机\n",
    "    - 那么你应该投资多少比例的资金（本金的比例）\n",
    "- $p=30\\%, b=3$\n",
    "    - $f=\\frac{0.3\\times 4-1}{3}=6.7\\%$\n",
    "- $p=70\\%,b=5$\n",
    "    - $f=\\frac{0.7\\times 6-1}{5}=64\\%$"
   ]
  }
 ],
 "metadata": {
  "kernelspec": {
   "display_name": "Python 3 (ipykernel)",
   "language": "python",
   "name": "python3"
  },
  "language_info": {
   "codemirror_mode": {
    "name": "ipython",
    "version": 3
   },
   "file_extension": ".py",
   "mimetype": "text/x-python",
   "name": "python",
   "nbconvert_exporter": "python",
   "pygments_lexer": "ipython3",
   "version": "3.10.9"
  },
  "toc": {
   "base_numbering": 1,
   "nav_menu": {},
   "number_sections": true,
   "sideBar": true,
   "skip_h1_title": false,
   "title_cell": "Table of Contents",
   "title_sidebar": "Contents",
   "toc_cell": false,
   "toc_position": {},
   "toc_section_display": true,
   "toc_window_display": false
  }
 },
 "nbformat": 4,
 "nbformat_minor": 5
}
