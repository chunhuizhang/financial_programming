{
 "cells": [
  {
   "cell_type": "markdown",
   "id": "c891cd05",
   "metadata": {},
   "source": [
    "> 定义，性质，推论，计算及应用！"
   ]
  },
  {
   "cell_type": "markdown",
   "id": "fb0a5f70",
   "metadata": {},
   "source": [
    "## 基本概念"
   ]
  },
  {
   "cell_type": "markdown",
   "id": "44745f40",
   "metadata": {},
   "source": [
    "- 参考\n",
    "    - http://www.pbc.gov.cn/zhengcehuobisi/125207/125213/125440/3876551/index.html\n",
    "    - https://www.abchina.com/cn/personalservices/quotation/bwbll/201512/t20151221_815116.htm\n",
    "    - https://www.bankofchina.com/fimarkets/lilv/fd32/201310/t20131031_2591219.html"
   ]
  },
  {
   "cell_type": "markdown",
   "id": "eda56006",
   "metadata": {},
   "source": [
    "- prime rate：基准/基础利率；\n",
    "    - 锚定的基点；\n",
    "    - BP：Basis Point，点数，加点或减点，\n",
    "        - 1BP, 0.01%\n",
    "        - 100BP, 1%\n",
    "- 全国银行间同业拆借中心\n",
    "    - 央行与商行间？？\n",
    "    - 商行间（商业银行间）？？\n",
    "- LPR：（18家）商业银行对其**最优质客户**执行的贷款利率，其他贷款利率可在此基础上加减点生成。\n",
    "    - 集中报价和发布机制，是报价行于每月20日（遇节假日顺延）9时前，按公开市场操作利率（主要指中期借贷便利利率，MLF）加点形成的方式\n",
    "    - 向全国银行间同业拆借中心报价\n",
    "    - 全国银行间同业拆借中心按去掉最高和最低报价后算术平均的方式计算得出贷款市场报价利率，并于报价当日9时30分公布。\n",
    "        - LPR报价银行团现由18家银行组成（中国农业银行作为报价行之一）。\n",
    "- MLF(Medium-term Lending Facility)全称中期借贷便利，戏称“麻辣粉”"
   ]
  },
  {
   "cell_type": "markdown",
   "id": "de60f468",
   "metadata": {},
   "source": [
    "- 2019年8月17日，央行宣布改革完善LPR形成机制，居民购房贷款的“定价基准”从基准利率转为LPR。\n",
    "- 自2019年8月20日起，中国农业银行在新发放的贷款中主要参考贷款市场报价利率定价，并在浮动利率贷款合同中采用贷款市场报价利率作为定价基准。"
   ]
  },
  {
   "cell_type": "markdown",
   "id": "1e9174d2",
   "metadata": {},
   "source": [
    "## （传统）贷款基准（base）利率"
   ]
  },
  {
   "cell_type": "markdown",
   "id": "609d448f",
   "metadata": {},
   "source": [
    "$$\n",
    "r = b\\cdot(1+f)\n",
    "$$\n",
    "\n",
    "- b：央行（中央银行）决定的基准利率\n",
    "- f：浮动利率\n",
    "- 比如 5年以上房贷基础利率 4.9%\n",
    "    - 首套房 4.9%*(1+10%)=5.39%\n",
    "    - 二套房 4.9%*(1+30%)=6.37%\n",
    "    \n",
    "- 基准利率的问题，存在利率的双轨制 => 阻碍利率的市场化改革；\n",
    "    - **市场**利率：央行通过 MLF（中期借贷便利）的方式把资金（有数额，有利率）投放给商业银行；\n",
    "        - 商业银行需要把自己的抵押物抵押给央行；\n",
    "        - MLF 显然也是带利息的（由市场决定）；\n",
    "    - 政策利率：主要指的就是基准利率；\n",
    "        - 商业银行贷款给企业或个人的利率（按政策要求）锚定的利率；"
   ]
  },
  {
   "cell_type": "markdown",
   "id": "0ee4a0ca",
   "metadata": {},
   "source": [
    "## LPR"
   ]
  },
  {
   "cell_type": "markdown",
   "id": "f167afc3",
   "metadata": {},
   "source": [
    "- 贷款基础利率\n",
    "\n",
    "    $$\n",
    "    LPR = MLF + 加点\n",
    "    $$\n",
    "\n",
    "    - MLF：央行决定，市场利率\n",
    "    - 加点：主要由（多家）商业银行决定\n",
    "    - 商业银行贷款给企业或个人的利率：LPR + 加点\n",
    "        - 比如房贷，\n",
    "        - 2019年末的时候，开始执行（2019年12月20号，4.8%）\n",
    "            - 首套：4.8% + 0%（政策）+0.5%（商业银行）=5.3%\n",
    "            - 二套：4.8% + 0.6%（政策）+0.5%（商业银行）=5.9%\n",
    "            - 之前的固定利率方式切换为 LPR+加点\n",
    "                - 5.38% = 4.8% + 0.58%\n",
    "                - LPR+加点 = LPR + 0.58%\n",
    "        - 2023年9月的节点上，这个加点基本取消了；"
   ]
  },
  {
   "cell_type": "markdown",
   "id": "ef088758",
   "metadata": {},
   "source": [
    "- 贷款市场报价利率（LPR）-央行官网\n",
    "    - http://www.pbc.gov.cn/zhengcehuobisi/125207/125213/125440/3876551/index.html\n",
    "    - MLF\n",
    "        - http://www.pbc.gov.cn/zhengcehuobisi/125207/125213/125446/index.html\n",
    "    - 其他：\n",
    "        - http://www.pbc.gov.cn/zhengcehuobisi/125207/125213/125431/index.html\n",
    "- 中国外汇交易中心-全国银行间同业拆借中心\n",
    "    - https://iftp.chinamoney.com.cn/chinese/bklpr/"
   ]
  },
  {
   "cell_type": "markdown",
   "id": "73041626",
   "metadata": {},
   "source": [
    "### 定价"
   ]
  },
  {
   "cell_type": "markdown",
   "id": "9b7f6bf0",
   "metadata": {},
   "source": [
    "- 18家商业银行\n",
    "    - https://iftp.chinamoney.com.cn/chinese/bklpr/\n",
    "- 去掉一个最高价，去掉一个最低价，再取平均；"
   ]
  }
 ],
 "metadata": {
  "kernelspec": {
   "display_name": "Python 3 (ipykernel)",
   "language": "python",
   "name": "python3"
  },
  "language_info": {
   "codemirror_mode": {
    "name": "ipython",
    "version": 3
   },
   "file_extension": ".py",
   "mimetype": "text/x-python",
   "name": "python",
   "nbconvert_exporter": "python",
   "pygments_lexer": "ipython3",
   "version": "3.10.9"
  },
  "toc": {
   "base_numbering": 1,
   "nav_menu": {},
   "number_sections": true,
   "sideBar": true,
   "skip_h1_title": false,
   "title_cell": "Table of Contents",
   "title_sidebar": "Contents",
   "toc_cell": false,
   "toc_position": {},
   "toc_section_display": true,
   "toc_window_display": false
  }
 },
 "nbformat": 4,
 "nbformat_minor": 5
}
