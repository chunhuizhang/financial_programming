{
 "cells": [
  {
   "cell_type": "markdown",
   "id": "c891cd05",
   "metadata": {},
   "source": [
    "> 定义，性质，推论，计算及应用！"
   ]
  },
  {
   "cell_type": "markdown",
   "id": "fb0a5f70",
   "metadata": {},
   "source": [
    "## 基本概念"
   ]
  },
  {
   "cell_type": "markdown",
   "id": "44745f40",
   "metadata": {},
   "source": [
    "- 参考\n",
    "    - https://www.abchina.com/cn/personalservices/quotation/bwbll/201512/t20151221_815116.htm"
   ]
  },
  {
   "cell_type": "markdown",
   "id": "eda56006",
   "metadata": {},
   "source": [
    "- prime rate：基准利率；\n",
    "    - 锚定的基点；\n",
    "    - BP：Basis Point，点数，加点或减点，\n",
    "        - 1BP, 0.01%\n",
    "        - 100BP, 1%\n",
    "- 全国银行间同业拆借中心\n",
    "- LPR：商业银行对其**最优质客户**执行的贷款利率，其他贷款利率可在此基础上加减点生成。\n",
    "    - 集中报价和发布机制，是报价行于每月20日（遇节假日顺延）9时前，按公开市场操作利率（主要指中期借贷便利利率，MLF）加点形成的方式\n",
    "    - 向全国银行间同业拆借中心报价\n",
    "    - 全国银行间同业拆借中心按去掉最高和最低报价后算术平均的方式计算得出贷款市场报价利率，并于报价当日9时30分公布。\n",
    "        - LPR报价银行团现由18家银行组成（中国农业银行作为报价行之一）。\n",
    "- MLF(Medium-term Lending Facility)全称中期借贷便利，戏称“麻辣粉”"
   ]
  },
  {
   "cell_type": "markdown",
   "id": "de60f468",
   "metadata": {},
   "source": [
    "- 2019年8月17日，央行宣布改革完善LPR形成机制，居民购房贷款的“定价基准”从基准利率转为LPR。\n",
    "- 自2019年8月20日起，中国农业银行在新发放的贷款中主要参考贷款市场报价利率定价，并在浮动利率贷款合同中采用贷款市场报价利率作为定价基准。"
   ]
  }
 ],
 "metadata": {
  "kernelspec": {
   "display_name": "Python 3 (ipykernel)",
   "language": "python",
   "name": "python3"
  },
  "language_info": {
   "codemirror_mode": {
    "name": "ipython",
    "version": 3
   },
   "file_extension": ".py",
   "mimetype": "text/x-python",
   "name": "python",
   "nbconvert_exporter": "python",
   "pygments_lexer": "ipython3",
   "version": "3.9.13"
  },
  "toc": {
   "base_numbering": 1,
   "nav_menu": {},
   "number_sections": true,
   "sideBar": true,
   "skip_h1_title": false,
   "title_cell": "Table of Contents",
   "title_sidebar": "Contents",
   "toc_cell": false,
   "toc_position": {},
   "toc_section_display": true,
   "toc_window_display": false
  }
 },
 "nbformat": 4,
 "nbformat_minor": 5
}
