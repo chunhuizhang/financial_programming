{
 "cells": [
  {
   "cell_type": "markdown",
   "id": "4ab15665",
   "metadata": {},
   "source": [
    "## A股"
   ]
  },
  {
   "cell_type": "markdown",
   "id": "73662541",
   "metadata": {},
   "source": [
    "### 北向/南向资金"
   ]
  },
  {
   "cell_type": "markdown",
   "id": "2cbd47de",
   "metadata": {},
   "source": [
    "- 沪深港通\n",
    "    - 沪股通\n",
    "    - 深股通\n",
    "- 北向资金\n",
    "    - 特指通过沪深港通机制，将资金从香港（南方）投资到上海和深圳股市（北方）的资金流。\n",
    "    - 允许国际和香港的投资者通过香港股票市场直接投资于中国内地的上海和深圳股市。\n",
    "- 南向资金\n",
    "    - 内地投资者通过同样的机制投资香港股市的资金流。\n",
    "- https://data.eastmoney.com/hsgtcg/"
   ]
  },
  {
   "cell_type": "markdown",
   "id": "031c82cd",
   "metadata": {},
   "source": [
    "## 港股"
   ]
  },
  {
   "cell_type": "markdown",
   "id": "6df7dd1b",
   "metadata": {},
   "source": [
    "- 恒指：恒生指数\n",
    "    - 科指：恒生科技指数"
   ]
  }
 ],
 "metadata": {
  "kernelspec": {
   "display_name": "Python 3 (ipykernel)",
   "language": "python",
   "name": "python3"
  },
  "language_info": {
   "codemirror_mode": {
    "name": "ipython",
    "version": 3
   },
   "file_extension": ".py",
   "mimetype": "text/x-python",
   "name": "python",
   "nbconvert_exporter": "python",
   "pygments_lexer": "ipython3",
   "version": "3.10.13"
  },
  "toc": {
   "base_numbering": 1,
   "nav_menu": {},
   "number_sections": true,
   "sideBar": true,
   "skip_h1_title": false,
   "title_cell": "Table of Contents",
   "title_sidebar": "Contents",
   "toc_cell": false,
   "toc_position": {},
   "toc_section_display": true,
   "toc_window_display": false
  }
 },
 "nbformat": 4,
 "nbformat_minor": 5
}
