{
 "cells": [
  {
   "cell_type": "markdown",
   "id": "00c681d0",
   "metadata": {},
   "source": [
    "## 单利与复利"
   ]
  },
  {
   "cell_type": "markdown",
   "id": "20dcdd54",
   "metadata": {},
   "source": [
    "- 基本概念\n",
    "    - FV：future value，未来值\n",
    "    - PV：present value，现值\n",
    "    - interest：利率\n",
    "- 单利与复利计算\n",
    "    - 利率 $r$，期数 $N$\n",
    "    $$\n",
    "    \\begin{split}\n",
    "    &FV=PV\\cdot(1+r\\cdot N)\\\\\n",
    "    &FV=PV\\cdot(1+r)^N\n",
    "    \\end{split}\n",
    "    $$\n",
    "    "
   ]
  },
  {
   "cell_type": "markdown",
   "id": "16922464",
   "metadata": {},
   "source": [
    "### 计算示例"
   ]
  },
  {
   "cell_type": "markdown",
   "id": "429373a3",
   "metadata": {},
   "source": [
    "- PV：10000，年化利率 6%, 20 年；\n",
    "- 单利：\n",
    "    $$\n",
    "    10000\\left(1+0.06\\cdot 20\\right)=22000\n",
    "    $$\n",
    "- 复利（按年计息，一年记一次息）\n",
    "    $$\n",
    "    10000\\left(1+\\frac{0.06}{1}\\right)^{20}=32071\n",
    "    $$\n",
    "- 复利（按月计息）\n",
    "\n",
    "    $$\n",
    "    10000\\left(1+\\frac{0.06}{12}\\right)^{20\\times 12}=33102\n",
    "    $$\n",
    "\n",
    "- 复利（按天计息）\n",
    "\n",
    "    $$\n",
    "    10000\\left(1+\\frac{0.06}{365}\\right)^{20\\times 365}=33198\n",
    "    $$"
   ]
  },
  {
   "cell_type": "markdown",
   "id": "512f1bb9",
   "metadata": {},
   "source": [
    "## 72法则"
   ]
  },
  {
   "cell_type": "code",
   "execution_count": 3,
   "id": "df02fb1b",
   "metadata": {
    "ExecuteTime": {
     "end_time": "2023-08-26T11:34:15.243125Z",
     "start_time": "2023-08-26T11:34:15.233221Z"
    }
   },
   "outputs": [
    {
     "data": {
      "text/plain": [
       "0.6931471805599453"
      ]
     },
     "execution_count": 3,
     "metadata": {},
     "output_type": "execute_result"
    }
   ],
   "source": [
    "import math\n",
    "math.log(2)"
   ]
  },
  {
   "cell_type": "markdown",
   "id": "2bb87eaa",
   "metadata": {
    "ExecuteTime": {
     "end_time": "2023-08-26T11:26:16.811087Z",
     "start_time": "2023-08-26T11:26:16.794796Z"
    }
   },
   "source": [
    "- 给定利率水平 $r$ 下，求 FV = 2*PV 时（本息和翻倍）所需的期数 $N$；\n",
    "\n",
    "$$\n",
    "\\begin{split}\n",
    "FV&=2PV=PV(1+r)^N\\\\\n",
    "N&=\\frac{\\ln 2}{\\ln (1+r)}\\approx \\frac{72\\%}{r}\n",
    "\\end{split}\n",
    "$$\n",
    "\n",
    "- $\\ln 2\\approx 0.693\\approx 0.72$\n",
    "    - 72 的约数更多，更容易做快速计算；\n",
    "- $\\ln (1+r)=r-\\frac{r^2}2+\\frac{r^3}3+\\cdots\\approx r$"
   ]
  },
  {
   "cell_type": "code",
   "execution_count": 8,
   "id": "31a1b72a",
   "metadata": {
    "ExecuteTime": {
     "end_time": "2023-08-26T11:38:17.475987Z",
     "start_time": "2023-08-26T11:38:17.468191Z"
    }
   },
   "outputs": [
    {
     "name": "stdout",
     "output_type": "stream",
     "text": [
      "2.0121964718355514\n",
      "1.9990046271044333\n",
      "1.973822685184001\n"
     ]
    }
   ],
   "source": [
    "# r = 0.06 时，需要12年\n",
    "print((1+0.06)**12)\n",
    "# r = 0.08 时，需要 9 年\n",
    "print((1+0.08)**9)\n",
    "# r = 0.12 时，需要 6年\n",
    "print((1+0.12)**6)"
   ]
  }
 ],
 "metadata": {
  "kernelspec": {
   "display_name": "Python 3 (ipykernel)",
   "language": "python",
   "name": "python3"
  },
  "language_info": {
   "codemirror_mode": {
    "name": "ipython",
    "version": 3
   },
   "file_extension": ".py",
   "mimetype": "text/x-python",
   "name": "python",
   "nbconvert_exporter": "python",
   "pygments_lexer": "ipython3",
   "version": "3.10.9"
  },
  "toc": {
   "base_numbering": 1,
   "nav_menu": {},
   "number_sections": true,
   "sideBar": true,
   "skip_h1_title": false,
   "title_cell": "Table of Contents",
   "title_sidebar": "Contents",
   "toc_cell": false,
   "toc_position": {},
   "toc_section_display": true,
   "toc_window_display": false
  }
 },
 "nbformat": 4,
 "nbformat_minor": 5
}
