{
 "cells": [
  {
   "cell_type": "markdown",
   "id": "a34b094e",
   "metadata": {},
   "source": [
    "## 金融理论"
   ]
  },
  {
   "cell_type": "markdown",
   "id": "c54246a7",
   "metadata": {},
   "source": [
    "- 徐高老师\n",
    "    - 金融经济学二十五讲\n",
    "    - 宏观经济学二十五讲——中国视角"
   ]
  }
 ],
 "metadata": {
  "kernelspec": {
   "display_name": "Python 3 (ipykernel)",
   "language": "python",
   "name": "python3"
  },
  "language_info": {
   "codemirror_mode": {
    "name": "ipython",
    "version": 3
   },
   "file_extension": ".py",
   "mimetype": "text/x-python",
   "name": "python",
   "nbconvert_exporter": "python",
   "pygments_lexer": "ipython3",
   "version": "3.10.9"
  },
  "toc": {
   "base_numbering": 1,
   "nav_menu": {},
   "number_sections": true,
   "sideBar": true,
   "skip_h1_title": false,
   "title_cell": "Table of Contents",
   "title_sidebar": "Contents",
   "toc_cell": false,
   "toc_position": {},
   "toc_section_display": true,
   "toc_window_display": false
  }
 },
 "nbformat": 4,
 "nbformat_minor": 5
}
