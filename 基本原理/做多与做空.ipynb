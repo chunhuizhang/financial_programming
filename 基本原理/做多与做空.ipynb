{
 "cells": [
  {
   "cell_type": "markdown",
   "id": "57f57b48",
   "metadata": {},
   "source": [
    "- 做多：先买后卖；\n",
    "    - 低价买（正仓，仓位为正），高价卖（减到0，平仓）；\n",
    "- 做空：先卖后买；\n",
    "    - 高价卖（负仓，仓位为负，向交易所借钱卖，空单），低价买（加到0，平仓）；"
   ]
  }
 ],
 "metadata": {
  "kernelspec": {
   "display_name": "Python 3 (ipykernel)",
   "language": "python",
   "name": "python3"
  },
  "language_info": {
   "codemirror_mode": {
    "name": "ipython",
    "version": 3
   },
   "file_extension": ".py",
   "mimetype": "text/x-python",
   "name": "python",
   "nbconvert_exporter": "python",
   "pygments_lexer": "ipython3",
   "version": "3.10.13"
  },
  "toc": {
   "base_numbering": 1,
   "nav_menu": {},
   "number_sections": true,
   "sideBar": true,
   "skip_h1_title": false,
   "title_cell": "Table of Contents",
   "title_sidebar": "Contents",
   "toc_cell": false,
   "toc_position": {},
   "toc_section_display": true,
   "toc_window_display": false
  }
 },
 "nbformat": 4,
 "nbformat_minor": 5
}
