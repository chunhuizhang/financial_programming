{
 "cells": [
  {
   "cell_type": "markdown",
   "id": "0839024a",
   "metadata": {},
   "source": [
    "## divergence：背离"
   ]
  },
  {
   "cell_type": "markdown",
   "id": "9f70940d",
   "metadata": {},
   "source": [
    "- 在技术分析中，\"divergence\"（背离）是一个重要的概念。它通常指的是股票价格和某个技术指标（如相对强弱指数 RSI，或者移动平均收敛/发散 MACD）之间的不一致或背离。有两种类型的背离：\n",
    "    - 正背离（Bullish Divergence）：当股票价格创新低，但技术指标未能创新低时，这可能预示着即将出现的上涨。\n",
    "    - 负背离（Bearish Divergence）：当股票价格创新高，但技术指标未能创新高时，这可能预示着即将出现的下跌。\n",
    "- 请注意，虽然背离可以提供有关可能的市场反转的线索，但它们并不总是准确的，也不能单独用作买卖决策的依据。投资者还需要考虑其他市场信息和技术分析工具。"
   ]
  }
 ],
 "metadata": {
  "kernelspec": {
   "display_name": "Python 3 (ipykernel)",
   "language": "python",
   "name": "python3"
  },
  "language_info": {
   "codemirror_mode": {
    "name": "ipython",
    "version": 3
   },
   "file_extension": ".py",
   "mimetype": "text/x-python",
   "name": "python",
   "nbconvert_exporter": "python",
   "pygments_lexer": "ipython3",
   "version": "3.10.9"
  },
  "toc": {
   "base_numbering": 1,
   "nav_menu": {},
   "number_sections": true,
   "sideBar": true,
   "skip_h1_title": false,
   "title_cell": "Table of Contents",
   "title_sidebar": "Contents",
   "toc_cell": false,
   "toc_position": {},
   "toc_section_display": true,
   "toc_window_display": false
  }
 },
 "nbformat": 4,
 "nbformat_minor": 5
}
