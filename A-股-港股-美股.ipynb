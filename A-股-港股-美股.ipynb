{
 "cells": [
  {
   "cell_type": "markdown",
   "id": "5caf3229",
   "metadata": {},
   "source": [
    "- 影视剧中学到的\n",
    "    - 大时代：\n",
    "        - 先炒高股票/指数，大庄家暗中撤退散户接盘；=》股市很快崩盘；\n",
    "            - 与此同时，股市崩盘也是个赚钱的机会，主要买跌就行，卖空，等下跌了再买回来。\n",
    "        - 造势，低于买入价卖出，强势空头砸盘，引发大规模抛售；\n",
    "        "
   ]
  },
  {
   "cell_type": "markdown",
   "id": "4ab15665",
   "metadata": {},
   "source": [
    "## A股"
   ]
  },
  {
   "cell_type": "markdown",
   "id": "73662541",
   "metadata": {},
   "source": [
    "### 北向/南向资金"
   ]
  },
  {
   "cell_type": "markdown",
   "id": "2cbd47de",
   "metadata": {},
   "source": [
    "- 沪深港通\n",
    "    - 沪股通\n",
    "    - 深股通\n",
    "- 北向资金\n",
    "    - 特指通过沪深港通机制，将资金从香港（南方）投资到上海和深圳股市（北方）的资金流。\n",
    "    - 允许国际和香港的投资者通过香港股票市场直接投资于中国内地的上海和深圳股市。\n",
    "- 南向资金\n",
    "    - 内地投资者通过同样的机制投资香港股市的资金流。\n",
    "- https://data.eastmoney.com/hsgtcg/"
   ]
  },
  {
   "cell_type": "markdown",
   "id": "2ddd127b",
   "metadata": {},
   "source": [
    "### 转融通"
   ]
  },
  {
   "cell_type": "markdown",
   "id": "79cc05d8",
   "metadata": {},
   "source": [
    "```\n",
    "科创板上市的亚虹医药21年IPO融了25个亿目前股价已下跌70%。\n",
    "收入:21年4600块，22年2.6万。\n",
    "利润:21年亏2.4亿，22年亏2.5亿。\n",
    "工资全年970万三个高管就拿走了880万另外228名员工加起来只有90万。\n",
    "他的保荐机构中信证券拿走了1.3亿的承销费。科创板上市规定保荐机构要跟投如果股价下跌就要承担亏损。\n",
    "这样中信证券获配330万股。你以为中信证券会和你一起熬吗?上市首日人家就通过转融通全部给借出做空了。\n",
    "```\n",
    "\n",
    "- 保荐机构：中信证券；\n",
    "- 转融通：转融通是一种证券融资活动，允许持有股票的投资者（如中信证券）将手中的股票借给希望借股票的其他投资者。"
   ]
  },
  {
   "cell_type": "markdown",
   "id": "031c82cd",
   "metadata": {},
   "source": [
    "## 港股"
   ]
  },
  {
   "cell_type": "markdown",
   "id": "6df7dd1b",
   "metadata": {},
   "source": [
    "- 恒指：恒生指数\n",
    "    - 科指：恒生科技指数"
   ]
  }
 ],
 "metadata": {
  "kernelspec": {
   "display_name": "Python 3 (ipykernel)",
   "language": "python",
   "name": "python3"
  },
  "language_info": {
   "codemirror_mode": {
    "name": "ipython",
    "version": 3
   },
   "file_extension": ".py",
   "mimetype": "text/x-python",
   "name": "python",
   "nbconvert_exporter": "python",
   "pygments_lexer": "ipython3",
   "version": "3.9.13"
  },
  "toc": {
   "base_numbering": 1,
   "nav_menu": {},
   "number_sections": true,
   "sideBar": true,
   "skip_h1_title": false,
   "title_cell": "Table of Contents",
   "title_sidebar": "Contents",
   "toc_cell": false,
   "toc_position": {},
   "toc_section_display": true,
   "toc_window_display": false
  }
 },
 "nbformat": 4,
 "nbformat_minor": 5
}
