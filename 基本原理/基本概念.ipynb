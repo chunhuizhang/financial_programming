{
 "cells": [
  {
   "cell_type": "markdown",
   "id": "9471ecf4",
   "metadata": {},
   "source": [
    "## 爆仓与平仓"
   ]
  },
  {
   "cell_type": "markdown",
   "id": "18219fc5",
   "metadata": {},
   "source": [
    "- 平仓是指关闭一个已经打开的交易仓位的行为。无论是持有多头仓位（预期资产价格上涨）还是空头仓位（预期资产价格下跌），平仓都意味着以当前市场价格卖出或买入相应数量的资产来结束这一交易，从而锁定利润或止损。\n",
    "    - 假设你在股票市场上看好某个公司的发展前景，认为该公司的股票价格将会上涨。于是，你以每股100美元的价格买入了100股，投资总额为10,000美元。过了一段时间，正如你预期的那样，该公司的股票价格上涨到了120美元/股。此时，你决定锁定利润，于是以120美元/股的价格卖出了这100股股票。卖出后，你的投资总额变为12,000美元，净赚2,000美元。在这个过程中，你执行的卖出操作就是“平仓”操作，因为你关闭了之前开启的买入仓位。\n",
    "- 爆仓是指在**杠杆交易**中，因为市场价格大幅不利移动，导致交易者的账户保证金水平低于维持**保证**金要求，从而被迫平仓的情况。\n",
    "    - 你用**5,000**美元的本金和**4**倍杠杆（即借入了20,000美元），总计25,000美元买入了该公司的股票。这意味着，如果股票价格下跌，你的盈利将是未杠杆盈利的4倍；但如果股票价格上涨，你的亏损也会是4倍。\n",
    "        - 杠杆率的定义再有的地方被称为5倍杠杆；\n",
    "\n",
    "- 自由资金$x$（100%作为保证金），杠杆率为 $k$，总资金为 $kx$，求波动率为多少时，会触发爆仓\n",
    "    - $kx-kxp=x$ => $p=1-1/k$"
   ]
  },
  {
   "cell_type": "markdown",
   "id": "0839024a",
   "metadata": {},
   "source": [
    "## divergence：背离"
   ]
  },
  {
   "cell_type": "markdown",
   "id": "9f70940d",
   "metadata": {},
   "source": [
    "- 在技术分析中，\"divergence\"（背离）是一个重要的概念。它通常指的是股票价格和某个技术指标（如相对强弱指数 RSI，或者移动平均收敛/发散 MACD）之间的不一致或背离。有两种类型的背离：\n",
    "    - 正背离（Bullish Divergence）：当股票价格创新低，但技术指标未能创新低时，这可能预示着即将出现的上涨。\n",
    "    - 负背离（Bearish Divergence）：当股票价格创新高，但技术指标未能创新高时，这可能预示着即将出现的下跌。\n",
    "- 请注意，虽然背离可以提供有关可能的市场反转的线索，但它们并不总是准确的，也不能单独用作买卖决策的依据。投资者还需要考虑其他市场信息和技术分析工具。"
   ]
  }
 ],
 "metadata": {
  "kernelspec": {
   "display_name": "Python 3 (ipykernel)",
   "language": "python",
   "name": "python3"
  },
  "language_info": {
   "codemirror_mode": {
    "name": "ipython",
    "version": 3
   },
   "file_extension": ".py",
   "mimetype": "text/x-python",
   "name": "python",
   "nbconvert_exporter": "python",
   "pygments_lexer": "ipython3",
   "version": "3.10.13"
  },
  "toc": {
   "base_numbering": 1,
   "nav_menu": {},
   "number_sections": true,
   "sideBar": true,
   "skip_h1_title": false,
   "title_cell": "Table of Contents",
   "title_sidebar": "Contents",
   "toc_cell": false,
   "toc_position": {},
   "toc_section_display": true,
   "toc_window_display": false
  }
 },
 "nbformat": 4,
 "nbformat_minor": 5
}
